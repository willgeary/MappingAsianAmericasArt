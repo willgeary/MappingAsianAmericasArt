{
 "cells": [
  {
   "cell_type": "markdown",
   "metadata": {},
   "source": [
    "# Manipulating Data with Python"
   ]
  },
  {
   "cell_type": "markdown",
   "metadata": {},
   "source": [
    "Import the pandas library for data analysis. See: http://pandas.pydata.org/"
   ]
  },
  {
   "cell_type": "code",
   "execution_count": 46,
   "metadata": {
    "collapsed": true
   },
   "outputs": [],
   "source": [
    "import pandas as pd"
   ]
  },
  {
   "cell_type": "markdown",
   "metadata": {},
   "source": [
    "Read in the csv."
   ]
  },
  {
   "cell_type": "code",
   "execution_count": 47,
   "metadata": {
    "collapsed": false
   },
   "outputs": [],
   "source": [
    "data = pd.read_csv(\"un refugee data.csv\")"
   ]
  },
  {
   "cell_type": "markdown",
   "metadata": {},
   "source": [
    "View the first five rows (i.e. the \"head\") of the data."
   ]
  },
  {
   "cell_type": "code",
   "execution_count": 48,
   "metadata": {
    "collapsed": false
   },
   "outputs": [
    {
     "data": {
      "text/html": [
       "<div>\n",
       "<table border=\"1\" class=\"dataframe\">\n",
       "  <thead>\n",
       "    <tr style=\"text-align: right;\">\n",
       "      <th></th>\n",
       "      <th>Year</th>\n",
       "      <th>Country / territory of asylum/residence</th>\n",
       "      <th>Origin</th>\n",
       "      <th>Refugees (incl. refugee-like situations)</th>\n",
       "      <th>Asylum-seekers (pending cases)</th>\n",
       "      <th>Internally displaced persons (IDPs)</th>\n",
       "      <th>Stateless persons</th>\n",
       "    </tr>\n",
       "  </thead>\n",
       "  <tbody>\n",
       "    <tr>\n",
       "      <th>0</th>\n",
       "      <td>1997</td>\n",
       "      <td>Australia</td>\n",
       "      <td>Colombia</td>\n",
       "      <td>37</td>\n",
       "      <td>NaN</td>\n",
       "      <td>NaN</td>\n",
       "      <td>NaN</td>\n",
       "    </tr>\n",
       "    <tr>\n",
       "      <th>1</th>\n",
       "      <td>1997</td>\n",
       "      <td>Australia</td>\n",
       "      <td>Germany</td>\n",
       "      <td>27</td>\n",
       "      <td>NaN</td>\n",
       "      <td>NaN</td>\n",
       "      <td>NaN</td>\n",
       "    </tr>\n",
       "    <tr>\n",
       "      <th>2</th>\n",
       "      <td>1997</td>\n",
       "      <td>Australia</td>\n",
       "      <td>Japan</td>\n",
       "      <td>1</td>\n",
       "      <td>NaN</td>\n",
       "      <td>NaN</td>\n",
       "      <td>NaN</td>\n",
       "    </tr>\n",
       "    <tr>\n",
       "      <th>3</th>\n",
       "      <td>1997</td>\n",
       "      <td>Australia</td>\n",
       "      <td>Mexico</td>\n",
       "      <td>2</td>\n",
       "      <td>NaN</td>\n",
       "      <td>NaN</td>\n",
       "      <td>NaN</td>\n",
       "    </tr>\n",
       "    <tr>\n",
       "      <th>4</th>\n",
       "      <td>1997</td>\n",
       "      <td>Australia</td>\n",
       "      <td>Thailand</td>\n",
       "      <td>8</td>\n",
       "      <td>NaN</td>\n",
       "      <td>NaN</td>\n",
       "      <td>NaN</td>\n",
       "    </tr>\n",
       "  </tbody>\n",
       "</table>\n",
       "</div>"
      ],
      "text/plain": [
       "   Year Country / territory of asylum/residence    Origin  \\\n",
       "0  1997                               Australia  Colombia   \n",
       "1  1997                               Australia   Germany   \n",
       "2  1997                               Australia     Japan   \n",
       "3  1997                               Australia    Mexico   \n",
       "4  1997                               Australia  Thailand   \n",
       "\n",
       "  Refugees (incl. refugee-like situations) Asylum-seekers (pending cases)  \\\n",
       "0                                       37                            NaN   \n",
       "1                                       27                            NaN   \n",
       "2                                        1                            NaN   \n",
       "3                                        2                            NaN   \n",
       "4                                        8                            NaN   \n",
       "\n",
       "   Internally displaced persons (IDPs)  Stateless persons  \n",
       "0                                  NaN                NaN  \n",
       "1                                  NaN                NaN  \n",
       "2                                  NaN                NaN  \n",
       "3                                  NaN                NaN  \n",
       "4                                  NaN                NaN  "
      ]
     },
     "execution_count": 48,
     "metadata": {},
     "output_type": "execute_result"
    }
   ],
   "source": [
    "data.head()"
   ]
  },
  {
   "cell_type": "markdown",
   "metadata": {},
   "source": [
    "### Select only the rows where Origin = Colombia:"
   ]
  },
  {
   "cell_type": "code",
   "execution_count": 49,
   "metadata": {
    "collapsed": false
   },
   "outputs": [
    {
     "data": {
      "text/html": [
       "<div>\n",
       "<table border=\"1\" class=\"dataframe\">\n",
       "  <thead>\n",
       "    <tr style=\"text-align: right;\">\n",
       "      <th></th>\n",
       "      <th>Year</th>\n",
       "      <th>Country / territory of asylum/residence</th>\n",
       "      <th>Origin</th>\n",
       "      <th>Refugees (incl. refugee-like situations)</th>\n",
       "      <th>Asylum-seekers (pending cases)</th>\n",
       "      <th>Internally displaced persons (IDPs)</th>\n",
       "      <th>Stateless persons</th>\n",
       "    </tr>\n",
       "  </thead>\n",
       "  <tbody>\n",
       "    <tr>\n",
       "      <th>0</th>\n",
       "      <td>1997</td>\n",
       "      <td>Australia</td>\n",
       "      <td>Colombia</td>\n",
       "      <td>37</td>\n",
       "      <td>NaN</td>\n",
       "      <td>NaN</td>\n",
       "      <td>NaN</td>\n",
       "    </tr>\n",
       "    <tr>\n",
       "      <th>5</th>\n",
       "      <td>1997</td>\n",
       "      <td>Bolivia (Plurinational State of)</td>\n",
       "      <td>Colombia</td>\n",
       "      <td>1</td>\n",
       "      <td>NaN</td>\n",
       "      <td>NaN</td>\n",
       "      <td>NaN</td>\n",
       "    </tr>\n",
       "    <tr>\n",
       "      <th>6</th>\n",
       "      <td>1997</td>\n",
       "      <td>Canada</td>\n",
       "      <td>Colombia</td>\n",
       "      <td>151</td>\n",
       "      <td>NaN</td>\n",
       "      <td>NaN</td>\n",
       "      <td>NaN</td>\n",
       "    </tr>\n",
       "    <tr>\n",
       "      <th>11</th>\n",
       "      <td>1997</td>\n",
       "      <td>Chile</td>\n",
       "      <td>Colombia</td>\n",
       "      <td>11</td>\n",
       "      <td>NaN</td>\n",
       "      <td>NaN</td>\n",
       "      <td>NaN</td>\n",
       "    </tr>\n",
       "    <tr>\n",
       "      <th>12</th>\n",
       "      <td>1997</td>\n",
       "      <td>Ecuador</td>\n",
       "      <td>Colombia</td>\n",
       "      <td>104</td>\n",
       "      <td>NaN</td>\n",
       "      <td>NaN</td>\n",
       "      <td>NaN</td>\n",
       "    </tr>\n",
       "  </tbody>\n",
       "</table>\n",
       "</div>"
      ],
      "text/plain": [
       "    Year Country / territory of asylum/residence    Origin  \\\n",
       "0   1997                               Australia  Colombia   \n",
       "5   1997        Bolivia (Plurinational State of)  Colombia   \n",
       "6   1997                                  Canada  Colombia   \n",
       "11  1997                                   Chile  Colombia   \n",
       "12  1997                                 Ecuador  Colombia   \n",
       "\n",
       "   Refugees (incl. refugee-like situations) Asylum-seekers (pending cases)  \\\n",
       "0                                        37                            NaN   \n",
       "5                                         1                            NaN   \n",
       "6                                       151                            NaN   \n",
       "11                                       11                            NaN   \n",
       "12                                      104                            NaN   \n",
       "\n",
       "    Internally displaced persons (IDPs)  Stateless persons  \n",
       "0                                   NaN                NaN  \n",
       "5                                   NaN                NaN  \n",
       "6                                   NaN                NaN  \n",
       "11                                  NaN                NaN  \n",
       "12                                  NaN                NaN  "
      ]
     },
     "execution_count": 49,
     "metadata": {},
     "output_type": "execute_result"
    }
   ],
   "source": [
    "colombia = data[data['Origin'] == 'Colombia']\n",
    "colombia.head()"
   ]
  },
  {
   "cell_type": "markdown",
   "metadata": {},
   "source": [
    "### Select only the rows where Origin = Germany:"
   ]
  },
  {
   "cell_type": "code",
   "execution_count": 50,
   "metadata": {
    "collapsed": false
   },
   "outputs": [
    {
     "data": {
      "text/html": [
       "<div>\n",
       "<table border=\"1\" class=\"dataframe\">\n",
       "  <thead>\n",
       "    <tr style=\"text-align: right;\">\n",
       "      <th></th>\n",
       "      <th>Year</th>\n",
       "      <th>Country / territory of asylum/residence</th>\n",
       "      <th>Origin</th>\n",
       "      <th>Refugees (incl. refugee-like situations)</th>\n",
       "      <th>Asylum-seekers (pending cases)</th>\n",
       "      <th>Internally displaced persons (IDPs)</th>\n",
       "      <th>Stateless persons</th>\n",
       "    </tr>\n",
       "  </thead>\n",
       "  <tbody>\n",
       "    <tr>\n",
       "      <th>1</th>\n",
       "      <td>1997</td>\n",
       "      <td>Australia</td>\n",
       "      <td>Germany</td>\n",
       "      <td>27</td>\n",
       "      <td>NaN</td>\n",
       "      <td>NaN</td>\n",
       "      <td>NaN</td>\n",
       "    </tr>\n",
       "    <tr>\n",
       "      <th>7</th>\n",
       "      <td>1997</td>\n",
       "      <td>Canada</td>\n",
       "      <td>Germany</td>\n",
       "      <td>401</td>\n",
       "      <td>NaN</td>\n",
       "      <td>NaN</td>\n",
       "      <td>NaN</td>\n",
       "    </tr>\n",
       "    <tr>\n",
       "      <th>25</th>\n",
       "      <td>1997</td>\n",
       "      <td>Sweden</td>\n",
       "      <td>Germany</td>\n",
       "      <td>8</td>\n",
       "      <td>NaN</td>\n",
       "      <td>NaN</td>\n",
       "      <td>NaN</td>\n",
       "    </tr>\n",
       "    <tr>\n",
       "      <th>29</th>\n",
       "      <td>1997</td>\n",
       "      <td>United States of America</td>\n",
       "      <td>Germany</td>\n",
       "      <td>7</td>\n",
       "      <td>NaN</td>\n",
       "      <td>NaN</td>\n",
       "      <td>NaN</td>\n",
       "    </tr>\n",
       "    <tr>\n",
       "      <th>35</th>\n",
       "      <td>1998</td>\n",
       "      <td>Australia</td>\n",
       "      <td>Germany</td>\n",
       "      <td>31</td>\n",
       "      <td>NaN</td>\n",
       "      <td>NaN</td>\n",
       "      <td>NaN</td>\n",
       "    </tr>\n",
       "  </tbody>\n",
       "</table>\n",
       "</div>"
      ],
      "text/plain": [
       "    Year Country / territory of asylum/residence   Origin  \\\n",
       "1   1997                               Australia  Germany   \n",
       "7   1997                                  Canada  Germany   \n",
       "25  1997                                  Sweden  Germany   \n",
       "29  1997                United States of America  Germany   \n",
       "35  1998                               Australia  Germany   \n",
       "\n",
       "   Refugees (incl. refugee-like situations) Asylum-seekers (pending cases)  \\\n",
       "1                                        27                            NaN   \n",
       "7                                       401                            NaN   \n",
       "25                                        8                            NaN   \n",
       "29                                        7                            NaN   \n",
       "35                                       31                            NaN   \n",
       "\n",
       "    Internally displaced persons (IDPs)  Stateless persons  \n",
       "1                                   NaN                NaN  \n",
       "7                                   NaN                NaN  \n",
       "25                                  NaN                NaN  \n",
       "29                                  NaN                NaN  \n",
       "35                                  NaN                NaN  "
      ]
     },
     "execution_count": 50,
     "metadata": {},
     "output_type": "execute_result"
    }
   ],
   "source": [
    "germany = data[data['Origin'] == 'Germany']\n",
    "germany.head()"
   ]
  },
  {
   "cell_type": "markdown",
   "metadata": {},
   "source": [
    "### Select only the rows where Origin = Japan:"
   ]
  },
  {
   "cell_type": "code",
   "execution_count": 51,
   "metadata": {
    "collapsed": false
   },
   "outputs": [
    {
     "data": {
      "text/html": [
       "<div>\n",
       "<table border=\"1\" class=\"dataframe\">\n",
       "  <thead>\n",
       "    <tr style=\"text-align: right;\">\n",
       "      <th></th>\n",
       "      <th>Year</th>\n",
       "      <th>Country / territory of asylum/residence</th>\n",
       "      <th>Origin</th>\n",
       "      <th>Refugees (incl. refugee-like situations)</th>\n",
       "      <th>Asylum-seekers (pending cases)</th>\n",
       "      <th>Internally displaced persons (IDPs)</th>\n",
       "      <th>Stateless persons</th>\n",
       "    </tr>\n",
       "  </thead>\n",
       "  <tbody>\n",
       "    <tr>\n",
       "      <th>2</th>\n",
       "      <td>1997</td>\n",
       "      <td>Australia</td>\n",
       "      <td>Japan</td>\n",
       "      <td>1</td>\n",
       "      <td>NaN</td>\n",
       "      <td>NaN</td>\n",
       "      <td>NaN</td>\n",
       "    </tr>\n",
       "    <tr>\n",
       "      <th>8</th>\n",
       "      <td>1997</td>\n",
       "      <td>Canada</td>\n",
       "      <td>Japan</td>\n",
       "      <td>1</td>\n",
       "      <td>NaN</td>\n",
       "      <td>NaN</td>\n",
       "      <td>NaN</td>\n",
       "    </tr>\n",
       "    <tr>\n",
       "      <th>36</th>\n",
       "      <td>1998</td>\n",
       "      <td>Australia</td>\n",
       "      <td>Japan</td>\n",
       "      <td>1</td>\n",
       "      <td>NaN</td>\n",
       "      <td>NaN</td>\n",
       "      <td>NaN</td>\n",
       "    </tr>\n",
       "    <tr>\n",
       "      <th>46</th>\n",
       "      <td>1998</td>\n",
       "      <td>Canada</td>\n",
       "      <td>Japan</td>\n",
       "      <td>2</td>\n",
       "      <td>NaN</td>\n",
       "      <td>NaN</td>\n",
       "      <td>NaN</td>\n",
       "    </tr>\n",
       "    <tr>\n",
       "      <th>82</th>\n",
       "      <td>1999</td>\n",
       "      <td>Australia</td>\n",
       "      <td>Japan</td>\n",
       "      <td>2</td>\n",
       "      <td>NaN</td>\n",
       "      <td>NaN</td>\n",
       "      <td>NaN</td>\n",
       "    </tr>\n",
       "  </tbody>\n",
       "</table>\n",
       "</div>"
      ],
      "text/plain": [
       "    Year Country / territory of asylum/residence Origin  \\\n",
       "2   1997                               Australia  Japan   \n",
       "8   1997                                  Canada  Japan   \n",
       "36  1998                               Australia  Japan   \n",
       "46  1998                                  Canada  Japan   \n",
       "82  1999                               Australia  Japan   \n",
       "\n",
       "   Refugees (incl. refugee-like situations) Asylum-seekers (pending cases)  \\\n",
       "2                                         1                            NaN   \n",
       "8                                         1                            NaN   \n",
       "36                                        1                            NaN   \n",
       "46                                        2                            NaN   \n",
       "82                                        2                            NaN   \n",
       "\n",
       "    Internally displaced persons (IDPs)  Stateless persons  \n",
       "2                                   NaN                NaN  \n",
       "8                                   NaN                NaN  \n",
       "36                                  NaN                NaN  \n",
       "46                                  NaN                NaN  \n",
       "82                                  NaN                NaN  "
      ]
     },
     "execution_count": 51,
     "metadata": {},
     "output_type": "execute_result"
    }
   ],
   "source": [
    "japan = data[data['Origin'] == 'Japan']\n",
    "japan.head()"
   ]
  },
  {
   "cell_type": "markdown",
   "metadata": {},
   "source": [
    "### Select only the rows where Origin = Mexico:"
   ]
  },
  {
   "cell_type": "code",
   "execution_count": 52,
   "metadata": {
    "collapsed": false
   },
   "outputs": [
    {
     "data": {
      "text/html": [
       "<div>\n",
       "<table border=\"1\" class=\"dataframe\">\n",
       "  <thead>\n",
       "    <tr style=\"text-align: right;\">\n",
       "      <th></th>\n",
       "      <th>Year</th>\n",
       "      <th>Country / territory of asylum/residence</th>\n",
       "      <th>Origin</th>\n",
       "      <th>Refugees (incl. refugee-like situations)</th>\n",
       "      <th>Asylum-seekers (pending cases)</th>\n",
       "      <th>Internally displaced persons (IDPs)</th>\n",
       "      <th>Stateless persons</th>\n",
       "    </tr>\n",
       "  </thead>\n",
       "  <tbody>\n",
       "    <tr>\n",
       "      <th>3</th>\n",
       "      <td>1997</td>\n",
       "      <td>Australia</td>\n",
       "      <td>Mexico</td>\n",
       "      <td>2</td>\n",
       "      <td>NaN</td>\n",
       "      <td>NaN</td>\n",
       "      <td>NaN</td>\n",
       "    </tr>\n",
       "    <tr>\n",
       "      <th>9</th>\n",
       "      <td>1997</td>\n",
       "      <td>Canada</td>\n",
       "      <td>Mexico</td>\n",
       "      <td>391</td>\n",
       "      <td>NaN</td>\n",
       "      <td>NaN</td>\n",
       "      <td>NaN</td>\n",
       "    </tr>\n",
       "    <tr>\n",
       "      <th>30</th>\n",
       "      <td>1997</td>\n",
       "      <td>United States of America</td>\n",
       "      <td>Mexico</td>\n",
       "      <td>272</td>\n",
       "      <td>NaN</td>\n",
       "      <td>NaN</td>\n",
       "      <td>NaN</td>\n",
       "    </tr>\n",
       "    <tr>\n",
       "      <th>37</th>\n",
       "      <td>1998</td>\n",
       "      <td>Australia</td>\n",
       "      <td>Mexico</td>\n",
       "      <td>2</td>\n",
       "      <td>NaN</td>\n",
       "      <td>NaN</td>\n",
       "      <td>NaN</td>\n",
       "    </tr>\n",
       "    <tr>\n",
       "      <th>41</th>\n",
       "      <td>1998</td>\n",
       "      <td>Belgium</td>\n",
       "      <td>Mexico</td>\n",
       "      <td>1</td>\n",
       "      <td>NaN</td>\n",
       "      <td>NaN</td>\n",
       "      <td>NaN</td>\n",
       "    </tr>\n",
       "  </tbody>\n",
       "</table>\n",
       "</div>"
      ],
      "text/plain": [
       "    Year Country / territory of asylum/residence  Origin  \\\n",
       "3   1997                               Australia  Mexico   \n",
       "9   1997                                  Canada  Mexico   \n",
       "30  1997                United States of America  Mexico   \n",
       "37  1998                               Australia  Mexico   \n",
       "41  1998                                 Belgium  Mexico   \n",
       "\n",
       "   Refugees (incl. refugee-like situations) Asylum-seekers (pending cases)  \\\n",
       "3                                         2                            NaN   \n",
       "9                                       391                            NaN   \n",
       "30                                      272                            NaN   \n",
       "37                                        2                            NaN   \n",
       "41                                        1                            NaN   \n",
       "\n",
       "    Internally displaced persons (IDPs)  Stateless persons  \n",
       "3                                   NaN                NaN  \n",
       "9                                   NaN                NaN  \n",
       "30                                  NaN                NaN  \n",
       "37                                  NaN                NaN  \n",
       "41                                  NaN                NaN  "
      ]
     },
     "execution_count": 52,
     "metadata": {},
     "output_type": "execute_result"
    }
   ],
   "source": [
    "mexico = data[data['Origin'] == 'Mexico']\n",
    "mexico.head()"
   ]
  },
  {
   "cell_type": "markdown",
   "metadata": {},
   "source": [
    "### Select only the rows where Origin = Thailand:"
   ]
  },
  {
   "cell_type": "code",
   "execution_count": 53,
   "metadata": {
    "collapsed": false
   },
   "outputs": [
    {
     "data": {
      "text/html": [
       "<div>\n",
       "<table border=\"1\" class=\"dataframe\">\n",
       "  <thead>\n",
       "    <tr style=\"text-align: right;\">\n",
       "      <th></th>\n",
       "      <th>Year</th>\n",
       "      <th>Country / territory of asylum/residence</th>\n",
       "      <th>Origin</th>\n",
       "      <th>Refugees (incl. refugee-like situations)</th>\n",
       "      <th>Asylum-seekers (pending cases)</th>\n",
       "      <th>Internally displaced persons (IDPs)</th>\n",
       "      <th>Stateless persons</th>\n",
       "    </tr>\n",
       "  </thead>\n",
       "  <tbody>\n",
       "    <tr>\n",
       "      <th>4</th>\n",
       "      <td>1997</td>\n",
       "      <td>Australia</td>\n",
       "      <td>Thailand</td>\n",
       "      <td>8</td>\n",
       "      <td>NaN</td>\n",
       "      <td>NaN</td>\n",
       "      <td>NaN</td>\n",
       "    </tr>\n",
       "    <tr>\n",
       "      <th>10</th>\n",
       "      <td>1997</td>\n",
       "      <td>Canada</td>\n",
       "      <td>Thailand</td>\n",
       "      <td>208</td>\n",
       "      <td>NaN</td>\n",
       "      <td>NaN</td>\n",
       "      <td>NaN</td>\n",
       "    </tr>\n",
       "    <tr>\n",
       "      <th>20</th>\n",
       "      <td>1997</td>\n",
       "      <td>Netherlands</td>\n",
       "      <td>Thailand</td>\n",
       "      <td>2</td>\n",
       "      <td>NaN</td>\n",
       "      <td>NaN</td>\n",
       "      <td>NaN</td>\n",
       "    </tr>\n",
       "    <tr>\n",
       "      <th>22</th>\n",
       "      <td>1997</td>\n",
       "      <td>Norway</td>\n",
       "      <td>Thailand</td>\n",
       "      <td>5</td>\n",
       "      <td>NaN</td>\n",
       "      <td>NaN</td>\n",
       "      <td>NaN</td>\n",
       "    </tr>\n",
       "    <tr>\n",
       "      <th>26</th>\n",
       "      <td>1997</td>\n",
       "      <td>Sweden</td>\n",
       "      <td>Thailand</td>\n",
       "      <td>47</td>\n",
       "      <td>NaN</td>\n",
       "      <td>NaN</td>\n",
       "      <td>NaN</td>\n",
       "    </tr>\n",
       "  </tbody>\n",
       "</table>\n",
       "</div>"
      ],
      "text/plain": [
       "    Year Country / territory of asylum/residence    Origin  \\\n",
       "4   1997                               Australia  Thailand   \n",
       "10  1997                                  Canada  Thailand   \n",
       "20  1997                             Netherlands  Thailand   \n",
       "22  1997                                  Norway  Thailand   \n",
       "26  1997                                  Sweden  Thailand   \n",
       "\n",
       "   Refugees (incl. refugee-like situations) Asylum-seekers (pending cases)  \\\n",
       "4                                         8                            NaN   \n",
       "10                                      208                            NaN   \n",
       "20                                        2                            NaN   \n",
       "22                                        5                            NaN   \n",
       "26                                       47                            NaN   \n",
       "\n",
       "    Internally displaced persons (IDPs)  Stateless persons  \n",
       "4                                   NaN                NaN  \n",
       "10                                  NaN                NaN  \n",
       "20                                  NaN                NaN  \n",
       "22                                  NaN                NaN  \n",
       "26                                  NaN                NaN  "
      ]
     },
     "execution_count": 53,
     "metadata": {},
     "output_type": "execute_result"
    }
   ],
   "source": [
    "thailand = data[data['Origin'] == 'Thailand']\n",
    "thailand.head()"
   ]
  },
  {
   "cell_type": "markdown",
   "metadata": {},
   "source": [
    "### Save these five tables to separate csv files:"
   ]
  },
  {
   "cell_type": "code",
   "execution_count": 54,
   "metadata": {
    "collapsed": true
   },
   "outputs": [],
   "source": [
    "colombia.to_csv(\"colombia.csv\")\n",
    "germany.to_csv(\"germany.csv\")\n",
    "japan.to_csv(\"japan.csv\")\n",
    "mexico.to_csv(\"mexico.csv\")\n",
    "thailand.to_csv(\"thailand.csv\")"
   ]
  },
  {
   "cell_type": "markdown",
   "metadata": {},
   "source": [
    "### Visualize Number of Refugees per Country "
   ]
  },
  {
   "cell_type": "markdown",
   "metadata": {},
   "source": [
    "Import some visualization libraries:"
   ]
  },
  {
   "cell_type": "code",
   "execution_count": 55,
   "metadata": {
    "collapsed": true
   },
   "outputs": [],
   "source": [
    "import matplotlib.pyplot as plt\n",
    "import seaborn as sns\n",
    "%matplotlib inline"
   ]
  },
  {
   "cell_type": "markdown",
   "metadata": {},
   "source": [
    "Before we visualize anything, there are some irregularities in the 'Refugees' column that we need to fix..."
   ]
  },
  {
   "cell_type": "markdown",
   "metadata": {},
   "source": [
    "1) Replace all * character's with zeros:"
   ]
  },
  {
   "cell_type": "code",
   "execution_count": 56,
   "metadata": {
    "collapsed": false
   },
   "outputs": [],
   "source": [
    "data['Refugees (incl. refugee-like situations)'].replace('*', 0, inplace=True)"
   ]
  },
  {
   "cell_type": "markdown",
   "metadata": {},
   "source": [
    "2) Replace NA's with zeros:"
   ]
  },
  {
   "cell_type": "code",
   "execution_count": 57,
   "metadata": {
    "collapsed": false
   },
   "outputs": [],
   "source": [
    "data['Refugees (incl. refugee-like situations)'].fillna(0, inplace=True)"
   ]
  },
  {
   "cell_type": "markdown",
   "metadata": {},
   "source": [
    "3) Convert all values to integers:"
   ]
  },
  {
   "cell_type": "code",
   "execution_count": 58,
   "metadata": {
    "collapsed": false
   },
   "outputs": [],
   "source": [
    "data['Refugees (incl. refugee-like situations)'] = data['Refugees (incl. refugee-like situations)'].astype(int)"
   ]
  },
  {
   "cell_type": "markdown",
   "metadata": {},
   "source": [
    "Now that the data is clean, we can analyze it."
   ]
  },
  {
   "cell_type": "markdown",
   "metadata": {},
   "source": [
    "### How many refugees are there per Origin country, across all years in the dataset?"
   ]
  },
  {
   "cell_type": "code",
   "execution_count": 99,
   "metadata": {
    "collapsed": false
   },
   "outputs": [
    {
     "data": {
      "text/html": [
       "<div>\n",
       "<table border=\"1\" class=\"dataframe\">\n",
       "  <thead>\n",
       "    <tr style=\"text-align: right;\">\n",
       "      <th></th>\n",
       "      <th>Refugees (incl. refugee-like situations)</th>\n",
       "    </tr>\n",
       "    <tr>\n",
       "      <th>Origin</th>\n",
       "      <th></th>\n",
       "    </tr>\n",
       "  </thead>\n",
       "  <tbody>\n",
       "    <tr>\n",
       "      <th>Colombia</th>\n",
       "      <td>3884686</td>\n",
       "    </tr>\n",
       "    <tr>\n",
       "      <th>Germany</th>\n",
       "      <td>8046</td>\n",
       "    </tr>\n",
       "    <tr>\n",
       "      <th>Japan</th>\n",
       "      <td>2168</td>\n",
       "    </tr>\n",
       "    <tr>\n",
       "      <th>Mexico</th>\n",
       "      <td>88832</td>\n",
       "    </tr>\n",
       "    <tr>\n",
       "      <th>Thailand</th>\n",
       "      <td>12308</td>\n",
       "    </tr>\n",
       "  </tbody>\n",
       "</table>\n",
       "</div>"
      ],
      "text/plain": [
       "          Refugees (incl. refugee-like situations)\n",
       "Origin                                            \n",
       "Colombia                                   3884686\n",
       "Germany                                       8046\n",
       "Japan                                         2168\n",
       "Mexico                                       88832\n",
       "Thailand                                     12308"
      ]
     },
     "execution_count": 99,
     "metadata": {},
     "output_type": "execute_result"
    }
   ],
   "source": [
    "g = data.groupby(by='Origin').sum()['Refugees (incl. refugee-like situations)']\n",
    "g = pd.DataFrame(g)\n",
    "g"
   ]
  },
  {
   "cell_type": "code",
   "execution_count": 106,
   "metadata": {
    "collapsed": false
   },
   "outputs": [
    {
     "data": {
      "image/png": "[encoded data removed]",
      "text/plain": [
       "<matplotlib.figure.Figure at 0x11daed750>"
      ]
     },
     "metadata": {},
     "output_type": "display_data"
    }
   ],
   "source": [
    "sns.barplot(x=g.index, y=\"Refugees (incl. refugee-like situations)\", data = g, ci=None)\n",
    "plt.title(\"Total Refugees by Origin Country\")\n",
    "plt.ylabel(\"Refugees (incl. refugee-like situations)\");"
   ]
  },
  {
   "cell_type": "markdown",
   "metadata": {},
   "source": [
    "### How many refugees are per Origin country per year?"
   ]
  },
  {
   "cell_type": "code",
   "execution_count": 148,
   "metadata": {
    "collapsed": false
   },
   "outputs": [
    {
     "data": {
      "text/html": [
       "<div>\n",
       "<table border=\"1\" class=\"dataframe\">\n",
       "  <thead>\n",
       "    <tr>\n",
       "      <th></th>\n",
       "      <th colspan=\"5\" halign=\"left\">Refugees (incl. refugee-like situations)</th>\n",
       "    </tr>\n",
       "    <tr>\n",
       "      <th>Origin</th>\n",
       "      <th>Colombia</th>\n",
       "      <th>Germany</th>\n",
       "      <th>Japan</th>\n",
       "      <th>Mexico</th>\n",
       "      <th>Thailand</th>\n",
       "    </tr>\n",
       "    <tr>\n",
       "      <th>Year</th>\n",
       "      <th></th>\n",
       "      <th></th>\n",
       "      <th></th>\n",
       "      <th></th>\n",
       "      <th></th>\n",
       "    </tr>\n",
       "  </thead>\n",
       "  <tbody>\n",
       "    <tr>\n",
       "      <th>1997</th>\n",
       "      <td>2377</td>\n",
       "      <td>443</td>\n",
       "      <td>2</td>\n",
       "      <td>665</td>\n",
       "      <td>272</td>\n",
       "    </tr>\n",
       "    <tr>\n",
       "      <th>1998</th>\n",
       "      <td>3538</td>\n",
       "      <td>688</td>\n",
       "      <td>3</td>\n",
       "      <td>1016</td>\n",
       "      <td>295</td>\n",
       "    </tr>\n",
       "    <tr>\n",
       "      <th>1999</th>\n",
       "      <td>4413</td>\n",
       "      <td>1298</td>\n",
       "      <td>3</td>\n",
       "      <td>1359</td>\n",
       "      <td>318</td>\n",
       "    </tr>\n",
       "    <tr>\n",
       "      <th>2000</th>\n",
       "      <td>9279</td>\n",
       "      <td>1183</td>\n",
       "      <td>5</td>\n",
       "      <td>1291</td>\n",
       "      <td>217</td>\n",
       "    </tr>\n",
       "    <tr>\n",
       "      <th>2001</th>\n",
       "      <td>17938</td>\n",
       "      <td>1033</td>\n",
       "      <td>5</td>\n",
       "      <td>1594</td>\n",
       "      <td>94</td>\n",
       "    </tr>\n",
       "    <tr>\n",
       "      <th>2002</th>\n",
       "      <td>30625</td>\n",
       "      <td>928</td>\n",
       "      <td>19</td>\n",
       "      <td>1670</td>\n",
       "      <td>344</td>\n",
       "    </tr>\n",
       "    <tr>\n",
       "      <th>2003</th>\n",
       "      <td>37995</td>\n",
       "      <td>725</td>\n",
       "      <td>19</td>\n",
       "      <td>1652</td>\n",
       "      <td>296</td>\n",
       "    </tr>\n",
       "    <tr>\n",
       "      <th>2004</th>\n",
       "      <td>47381</td>\n",
       "      <td>78</td>\n",
       "      <td>21</td>\n",
       "      <td>1744</td>\n",
       "      <td>319</td>\n",
       "    </tr>\n",
       "    <tr>\n",
       "      <th>2005</th>\n",
       "      <td>60450</td>\n",
       "      <td>78</td>\n",
       "      <td>13</td>\n",
       "      <td>2313</td>\n",
       "      <td>424</td>\n",
       "    </tr>\n",
       "    <tr>\n",
       "      <th>2006</th>\n",
       "      <td>72796</td>\n",
       "      <td>114</td>\n",
       "      <td>168</td>\n",
       "      <td>3304</td>\n",
       "      <td>3325</td>\n",
       "    </tr>\n",
       "    <tr>\n",
       "      <th>2007</th>\n",
       "      <td>551744</td>\n",
       "      <td>129</td>\n",
       "      <td>521</td>\n",
       "      <td>5572</td>\n",
       "      <td>2325</td>\n",
       "    </tr>\n",
       "    <tr>\n",
       "      <th>2008</th>\n",
       "      <td>373532</td>\n",
       "      <td>166</td>\n",
       "      <td>185</td>\n",
       "      <td>6162</td>\n",
       "      <td>1815</td>\n",
       "    </tr>\n",
       "    <tr>\n",
       "      <th>2009</th>\n",
       "      <td>389753</td>\n",
       "      <td>170</td>\n",
       "      <td>150</td>\n",
       "      <td>6435</td>\n",
       "      <td>502</td>\n",
       "    </tr>\n",
       "    <tr>\n",
       "      <th>2010</th>\n",
       "      <td>395577</td>\n",
       "      <td>164</td>\n",
       "      <td>152</td>\n",
       "      <td>6816</td>\n",
       "      <td>356</td>\n",
       "    </tr>\n",
       "    <tr>\n",
       "      <th>2011</th>\n",
       "      <td>395949</td>\n",
       "      <td>174</td>\n",
       "      <td>176</td>\n",
       "      <td>7472</td>\n",
       "      <td>368</td>\n",
       "    </tr>\n",
       "    <tr>\n",
       "      <th>2012</th>\n",
       "      <td>394117</td>\n",
       "      <td>182</td>\n",
       "      <td>172</td>\n",
       "      <td>8435</td>\n",
       "      <td>381</td>\n",
       "    </tr>\n",
       "    <tr>\n",
       "      <th>2013</th>\n",
       "      <td>396717</td>\n",
       "      <td>175</td>\n",
       "      <td>157</td>\n",
       "      <td>9390</td>\n",
       "      <td>222</td>\n",
       "    </tr>\n",
       "    <tr>\n",
       "      <th>2014</th>\n",
       "      <td>360281</td>\n",
       "      <td>165</td>\n",
       "      <td>257</td>\n",
       "      <td>10637</td>\n",
       "      <td>225</td>\n",
       "    </tr>\n",
       "    <tr>\n",
       "      <th>2015</th>\n",
       "      <td>340224</td>\n",
       "      <td>153</td>\n",
       "      <td>140</td>\n",
       "      <td>11305</td>\n",
       "      <td>210</td>\n",
       "    </tr>\n",
       "  </tbody>\n",
       "</table>\n",
       "</div>"
      ],
      "text/plain": [
       "       Refugees (incl. refugee-like situations)                              \n",
       "Origin                                 Colombia Germany Japan Mexico Thailand\n",
       "Year                                                                         \n",
       "1997                                       2377     443     2    665      272\n",
       "1998                                       3538     688     3   1016      295\n",
       "1999                                       4413    1298     3   1359      318\n",
       "2000                                       9279    1183     5   1291      217\n",
       "2001                                      17938    1033     5   1594       94\n",
       "2002                                      30625     928    19   1670      344\n",
       "2003                                      37995     725    19   1652      296\n",
       "2004                                      47381      78    21   1744      319\n",
       "2005                                      60450      78    13   2313      424\n",
       "2006                                      72796     114   168   3304     3325\n",
       "2007                                     551744     129   521   5572     2325\n",
       "2008                                     373532     166   185   6162     1815\n",
       "2009                                     389753     170   150   6435      502\n",
       "2010                                     395577     164   152   6816      356\n",
       "2011                                     395949     174   176   7472      368\n",
       "2012                                     394117     182   172   8435      381\n",
       "2013                                     396717     175   157   9390      222\n",
       "2014                                     360281     165   257  10637      225\n",
       "2015                                     340224     153   140  11305      210"
      ]
     },
     "execution_count": 148,
     "metadata": {},
     "output_type": "execute_result"
    }
   ],
   "source": [
    "g = data.groupby(by=['Origin', 'Year']).sum()['Refugees (incl. refugee-like situations)']\n",
    "g = pd.DataFrame(g)\n",
    "g = g.unstack(level=0)\n",
    "g"
   ]
  },
  {
   "cell_type": "code",
   "execution_count": 153,
   "metadata": {
    "collapsed": false
   },
   "outputs": [
    {
     "data": {
      "image/png": "[encoded data removed]",
      "text/plain": [
       "<matplotlib.figure.Figure at 0x11b4bc8d0>"
      ]
     },
     "metadata": {},
     "output_type": "display_data"
    }
   ],
   "source": [
    "g.plot(kind='bar', subplots=True, figsize=(12,14));"
   ]
  },
  {
   "cell_type": "code",
   "execution_count": null,
   "metadata": {
    "collapsed": true
   },
   "outputs": [],
   "source": []
  }
 ],
 "metadata": {
  "anaconda-cloud": {},
  "kernelspec": {
   "display_name": "Python [Root]",
   "language": "python",
   "name": "Python [Root]"
  },
  "language_info": {
   "codemirror_mode": {
    "name": "ipython",
    "version": 2
   },
   "file_extension": ".py",
   "mimetype": "text/x-python",
   "name": "python",
   "nbconvert_exporter": "python",
   "pygments_lexer": "ipython2",
   "version": "2.7.12"
  }
 },
 "nbformat": 4,
 "nbformat_minor": 0
}
