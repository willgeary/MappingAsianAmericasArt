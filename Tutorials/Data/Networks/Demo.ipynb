{
 "cells": [
  {
   "cell_type": "markdown",
   "metadata": {},
   "source": [
    "# Manipulating Data with Python"
   ]
  },
  {
   "cell_type": "markdown",
   "metadata": {},
   "source": [
    "Import the pandas library for data analysis. See: http://pandas.pydata.org/"
   ]
  },
  {
   "cell_type": "code",
   "execution_count": 5,
   "metadata": {
    "collapsed": true
   },
   "outputs": [],
   "source": [
    "import pandas as pd"
   ]
  },
  {
   "cell_type": "markdown",
   "metadata": {},
   "source": [
    "Read in the csv."
   ]
  },
  {
   "cell_type": "code",
   "execution_count": 22,
   "metadata": {
    "collapsed": false
   },
   "outputs": [],
   "source": [
    "data = pd.read_csv(\"un refugee data.csv\")"
   ]
  },
  {
   "cell_type": "markdown",
   "metadata": {},
   "source": [
    "View the first five rows (i.e. the \"head\") of the data."
   ]
  },
  {
   "cell_type": "code",
   "execution_count": 23,
   "metadata": {
    "collapsed": false
   },
   "outputs": [
    {
     "data": {
      "text/html": [
       "<div>\n",
       "<table border=\"1\" class=\"dataframe\">\n",
       "  <thead>\n",
       "    <tr style=\"text-align: right;\">\n",
       "      <th></th>\n",
       "      <th>Year</th>\n",
       "      <th>Country / territory of asylum/residence</th>\n",
       "      <th>Origin</th>\n",
       "      <th>Refugees (incl. refugee-like situations)</th>\n",
       "      <th>Asylum-seekers (pending cases)</th>\n",
       "      <th>Internally displaced persons (IDPs)</th>\n",
       "      <th>Stateless persons</th>\n",
       "    </tr>\n",
       "  </thead>\n",
       "  <tbody>\n",
       "    <tr>\n",
       "      <th>0</th>\n",
       "      <td>1997</td>\n",
       "      <td>Australia</td>\n",
       "      <td>Colombia</td>\n",
       "      <td>37</td>\n",
       "      <td>NaN</td>\n",
       "      <td>NaN</td>\n",
       "      <td>NaN</td>\n",
       "    </tr>\n",
       "    <tr>\n",
       "      <th>1</th>\n",
       "      <td>1997</td>\n",
       "      <td>Australia</td>\n",
       "      <td>Germany</td>\n",
       "      <td>27</td>\n",
       "      <td>NaN</td>\n",
       "      <td>NaN</td>\n",
       "      <td>NaN</td>\n",
       "    </tr>\n",
       "    <tr>\n",
       "      <th>2</th>\n",
       "      <td>1997</td>\n",
       "      <td>Australia</td>\n",
       "      <td>Japan</td>\n",
       "      <td>1</td>\n",
       "      <td>NaN</td>\n",
       "      <td>NaN</td>\n",
       "      <td>NaN</td>\n",
       "    </tr>\n",
       "    <tr>\n",
       "      <th>3</th>\n",
       "      <td>1997</td>\n",
       "      <td>Australia</td>\n",
       "      <td>Mexico</td>\n",
       "      <td>2</td>\n",
       "      <td>NaN</td>\n",
       "      <td>NaN</td>\n",
       "      <td>NaN</td>\n",
       "    </tr>\n",
       "    <tr>\n",
       "      <th>4</th>\n",
       "      <td>1997</td>\n",
       "      <td>Australia</td>\n",
       "      <td>Thailand</td>\n",
       "      <td>8</td>\n",
       "      <td>NaN</td>\n",
       "      <td>NaN</td>\n",
       "      <td>NaN</td>\n",
       "    </tr>\n",
       "  </tbody>\n",
       "</table>\n",
       "</div>"
      ],
      "text/plain": [
       "   Year Country / territory of asylum/residence    Origin  \\\n",
       "0  1997                               Australia  Colombia   \n",
       "1  1997                               Australia   Germany   \n",
       "2  1997                               Australia     Japan   \n",
       "3  1997                               Australia    Mexico   \n",
       "4  1997                               Australia  Thailand   \n",
       "\n",
       "  Refugees (incl. refugee-like situations) Asylum-seekers (pending cases)  \\\n",
       "0                                       37                            NaN   \n",
       "1                                       27                            NaN   \n",
       "2                                        1                            NaN   \n",
       "3                                        2                            NaN   \n",
       "4                                        8                            NaN   \n",
       "\n",
       "   Internally displaced persons (IDPs)  Stateless persons  \n",
       "0                                  NaN                NaN  \n",
       "1                                  NaN                NaN  \n",
       "2                                  NaN                NaN  \n",
       "3                                  NaN                NaN  \n",
       "4                                  NaN                NaN  "
      ]
     },
     "execution_count": 23,
     "metadata": {},
     "output_type": "execute_result"
    }
   ],
   "source": [
    "data.head()"
   ]
  },
  {
   "cell_type": "markdown",
   "metadata": {},
   "source": [
    "### Select only the rows where Origin = Colombia:"
   ]
  },
  {
   "cell_type": "code",
   "execution_count": 24,
   "metadata": {
    "collapsed": false
   },
   "outputs": [
    {
     "data": {
      "text/html": [
       "<div>\n",
       "<table border=\"1\" class=\"dataframe\">\n",
       "  <thead>\n",
       "    <tr style=\"text-align: right;\">\n",
       "      <th></th>\n",
       "      <th>Year</th>\n",
       "      <th>Country / territory of asylum/residence</th>\n",
       "      <th>Origin</th>\n",
       "      <th>Refugees (incl. refugee-like situations)</th>\n",
       "      <th>Asylum-seekers (pending cases)</th>\n",
       "      <th>Internally displaced persons (IDPs)</th>\n",
       "      <th>Stateless persons</th>\n",
       "    </tr>\n",
       "  </thead>\n",
       "  <tbody>\n",
       "    <tr>\n",
       "      <th>0</th>\n",
       "      <td>1997</td>\n",
       "      <td>Australia</td>\n",
       "      <td>Colombia</td>\n",
       "      <td>37</td>\n",
       "      <td>NaN</td>\n",
       "      <td>NaN</td>\n",
       "      <td>NaN</td>\n",
       "    </tr>\n",
       "    <tr>\n",
       "      <th>5</th>\n",
       "      <td>1997</td>\n",
       "      <td>Bolivia (Plurinational State of)</td>\n",
       "      <td>Colombia</td>\n",
       "      <td>1</td>\n",
       "      <td>NaN</td>\n",
       "      <td>NaN</td>\n",
       "      <td>NaN</td>\n",
       "    </tr>\n",
       "    <tr>\n",
       "      <th>6</th>\n",
       "      <td>1997</td>\n",
       "      <td>Canada</td>\n",
       "      <td>Colombia</td>\n",
       "      <td>151</td>\n",
       "      <td>NaN</td>\n",
       "      <td>NaN</td>\n",
       "      <td>NaN</td>\n",
       "    </tr>\n",
       "    <tr>\n",
       "      <th>11</th>\n",
       "      <td>1997</td>\n",
       "      <td>Chile</td>\n",
       "      <td>Colombia</td>\n",
       "      <td>11</td>\n",
       "      <td>NaN</td>\n",
       "      <td>NaN</td>\n",
       "      <td>NaN</td>\n",
       "    </tr>\n",
       "    <tr>\n",
       "      <th>12</th>\n",
       "      <td>1997</td>\n",
       "      <td>Ecuador</td>\n",
       "      <td>Colombia</td>\n",
       "      <td>104</td>\n",
       "      <td>NaN</td>\n",
       "      <td>NaN</td>\n",
       "      <td>NaN</td>\n",
       "    </tr>\n",
       "  </tbody>\n",
       "</table>\n",
       "</div>"
      ],
      "text/plain": [
       "    Year Country / territory of asylum/residence    Origin  \\\n",
       "0   1997                               Australia  Colombia   \n",
       "5   1997        Bolivia (Plurinational State of)  Colombia   \n",
       "6   1997                                  Canada  Colombia   \n",
       "11  1997                                   Chile  Colombia   \n",
       "12  1997                                 Ecuador  Colombia   \n",
       "\n",
       "   Refugees (incl. refugee-like situations) Asylum-seekers (pending cases)  \\\n",
       "0                                        37                            NaN   \n",
       "5                                         1                            NaN   \n",
       "6                                       151                            NaN   \n",
       "11                                       11                            NaN   \n",
       "12                                      104                            NaN   \n",
       "\n",
       "    Internally displaced persons (IDPs)  Stateless persons  \n",
       "0                                   NaN                NaN  \n",
       "5                                   NaN                NaN  \n",
       "6                                   NaN                NaN  \n",
       "11                                  NaN                NaN  \n",
       "12                                  NaN                NaN  "
      ]
     },
     "execution_count": 24,
     "metadata": {},
     "output_type": "execute_result"
    }
   ],
   "source": [
    "colombia = data[data['Origin'] == 'Colombia']\n",
    "colombia.head()"
   ]
  },
  {
   "cell_type": "markdown",
   "metadata": {},
   "source": [
    "### Select only the rows where Origin = Germany:"
   ]
  },
  {
   "cell_type": "code",
   "execution_count": 25,
   "metadata": {
    "collapsed": false
   },
   "outputs": [
    {
     "data": {
      "text/html": [
       "<div>\n",
       "<table border=\"1\" class=\"dataframe\">\n",
       "  <thead>\n",
       "    <tr style=\"text-align: right;\">\n",
       "      <th></th>\n",
       "      <th>Year</th>\n",
       "      <th>Country / territory of asylum/residence</th>\n",
       "      <th>Origin</th>\n",
       "      <th>Refugees (incl. refugee-like situations)</th>\n",
       "      <th>Asylum-seekers (pending cases)</th>\n",
       "      <th>Internally displaced persons (IDPs)</th>\n",
       "      <th>Stateless persons</th>\n",
       "    </tr>\n",
       "  </thead>\n",
       "  <tbody>\n",
       "    <tr>\n",
       "      <th>1</th>\n",
       "      <td>1997</td>\n",
       "      <td>Australia</td>\n",
       "      <td>Germany</td>\n",
       "      <td>27</td>\n",
       "      <td>NaN</td>\n",
       "      <td>NaN</td>\n",
       "      <td>NaN</td>\n",
       "    </tr>\n",
       "    <tr>\n",
       "      <th>7</th>\n",
       "      <td>1997</td>\n",
       "      <td>Canada</td>\n",
       "      <td>Germany</td>\n",
       "      <td>401</td>\n",
       "      <td>NaN</td>\n",
       "      <td>NaN</td>\n",
       "      <td>NaN</td>\n",
       "    </tr>\n",
       "    <tr>\n",
       "      <th>25</th>\n",
       "      <td>1997</td>\n",
       "      <td>Sweden</td>\n",
       "      <td>Germany</td>\n",
       "      <td>8</td>\n",
       "      <td>NaN</td>\n",
       "      <td>NaN</td>\n",
       "      <td>NaN</td>\n",
       "    </tr>\n",
       "    <tr>\n",
       "      <th>29</th>\n",
       "      <td>1997</td>\n",
       "      <td>United States of America</td>\n",
       "      <td>Germany</td>\n",
       "      <td>7</td>\n",
       "      <td>NaN</td>\n",
       "      <td>NaN</td>\n",
       "      <td>NaN</td>\n",
       "    </tr>\n",
       "    <tr>\n",
       "      <th>35</th>\n",
       "      <td>1998</td>\n",
       "      <td>Australia</td>\n",
       "      <td>Germany</td>\n",
       "      <td>31</td>\n",
       "      <td>NaN</td>\n",
       "      <td>NaN</td>\n",
       "      <td>NaN</td>\n",
       "    </tr>\n",
       "  </tbody>\n",
       "</table>\n",
       "</div>"
      ],
      "text/plain": [
       "    Year Country / territory of asylum/residence   Origin  \\\n",
       "1   1997                               Australia  Germany   \n",
       "7   1997                                  Canada  Germany   \n",
       "25  1997                                  Sweden  Germany   \n",
       "29  1997                United States of America  Germany   \n",
       "35  1998                               Australia  Germany   \n",
       "\n",
       "   Refugees (incl. refugee-like situations) Asylum-seekers (pending cases)  \\\n",
       "1                                        27                            NaN   \n",
       "7                                       401                            NaN   \n",
       "25                                        8                            NaN   \n",
       "29                                        7                            NaN   \n",
       "35                                       31                            NaN   \n",
       "\n",
       "    Internally displaced persons (IDPs)  Stateless persons  \n",
       "1                                   NaN                NaN  \n",
       "7                                   NaN                NaN  \n",
       "25                                  NaN                NaN  \n",
       "29                                  NaN                NaN  \n",
       "35                                  NaN                NaN  "
      ]
     },
     "execution_count": 25,
     "metadata": {},
     "output_type": "execute_result"
    }
   ],
   "source": [
    "germany = data[data['Origin'] == 'Germany']\n",
    "germany.head()"
   ]
  },
  {
   "cell_type": "markdown",
   "metadata": {},
   "source": [
    "### Select only the rows where Origin = Japan:"
   ]
  },
  {
   "cell_type": "code",
   "execution_count": 26,
   "metadata": {
    "collapsed": false
   },
   "outputs": [
    {
     "data": {
      "text/html": [
       "<div>\n",
       "<table border=\"1\" class=\"dataframe\">\n",
       "  <thead>\n",
       "    <tr style=\"text-align: right;\">\n",
       "      <th></th>\n",
       "      <th>Year</th>\n",
       "      <th>Country / territory of asylum/residence</th>\n",
       "      <th>Origin</th>\n",
       "      <th>Refugees (incl. refugee-like situations)</th>\n",
       "      <th>Asylum-seekers (pending cases)</th>\n",
       "      <th>Internally displaced persons (IDPs)</th>\n",
       "      <th>Stateless persons</th>\n",
       "    </tr>\n",
       "  </thead>\n",
       "  <tbody>\n",
       "    <tr>\n",
       "      <th>2</th>\n",
       "      <td>1997</td>\n",
       "      <td>Australia</td>\n",
       "      <td>Japan</td>\n",
       "      <td>1</td>\n",
       "      <td>NaN</td>\n",
       "      <td>NaN</td>\n",
       "      <td>NaN</td>\n",
       "    </tr>\n",
       "    <tr>\n",
       "      <th>8</th>\n",
       "      <td>1997</td>\n",
       "      <td>Canada</td>\n",
       "      <td>Japan</td>\n",
       "      <td>1</td>\n",
       "      <td>NaN</td>\n",
       "      <td>NaN</td>\n",
       "      <td>NaN</td>\n",
       "    </tr>\n",
       "    <tr>\n",
       "      <th>36</th>\n",
       "      <td>1998</td>\n",
       "      <td>Australia</td>\n",
       "      <td>Japan</td>\n",
       "      <td>1</td>\n",
       "      <td>NaN</td>\n",
       "      <td>NaN</td>\n",
       "      <td>NaN</td>\n",
       "    </tr>\n",
       "    <tr>\n",
       "      <th>46</th>\n",
       "      <td>1998</td>\n",
       "      <td>Canada</td>\n",
       "      <td>Japan</td>\n",
       "      <td>2</td>\n",
       "      <td>NaN</td>\n",
       "      <td>NaN</td>\n",
       "      <td>NaN</td>\n",
       "    </tr>\n",
       "    <tr>\n",
       "      <th>82</th>\n",
       "      <td>1999</td>\n",
       "      <td>Australia</td>\n",
       "      <td>Japan</td>\n",
       "      <td>2</td>\n",
       "      <td>NaN</td>\n",
       "      <td>NaN</td>\n",
       "      <td>NaN</td>\n",
       "    </tr>\n",
       "  </tbody>\n",
       "</table>\n",
       "</div>"
      ],
      "text/plain": [
       "    Year Country / territory of asylum/residence Origin  \\\n",
       "2   1997                               Australia  Japan   \n",
       "8   1997                                  Canada  Japan   \n",
       "36  1998                               Australia  Japan   \n",
       "46  1998                                  Canada  Japan   \n",
       "82  1999                               Australia  Japan   \n",
       "\n",
       "   Refugees (incl. refugee-like situations) Asylum-seekers (pending cases)  \\\n",
       "2                                         1                            NaN   \n",
       "8                                         1                            NaN   \n",
       "36                                        1                            NaN   \n",
       "46                                        2                            NaN   \n",
       "82                                        2                            NaN   \n",
       "\n",
       "    Internally displaced persons (IDPs)  Stateless persons  \n",
       "2                                   NaN                NaN  \n",
       "8                                   NaN                NaN  \n",
       "36                                  NaN                NaN  \n",
       "46                                  NaN                NaN  \n",
       "82                                  NaN                NaN  "
      ]
     },
     "execution_count": 26,
     "metadata": {},
     "output_type": "execute_result"
    }
   ],
   "source": [
    "japan = data[data['Origin'] == 'Japan']\n",
    "japan.head()"
   ]
  },
  {
   "cell_type": "markdown",
   "metadata": {},
   "source": [
    "### Select only the rows where Origin = Mexico:"
   ]
  },
  {
   "cell_type": "code",
   "execution_count": 27,
   "metadata": {
    "collapsed": false
   },
   "outputs": [
    {
     "data": {
      "text/html": [
       "<div>\n",
       "<table border=\"1\" class=\"dataframe\">\n",
       "  <thead>\n",
       "    <tr style=\"text-align: right;\">\n",
       "      <th></th>\n",
       "      <th>Year</th>\n",
       "      <th>Country / territory of asylum/residence</th>\n",
       "      <th>Origin</th>\n",
       "      <th>Refugees (incl. refugee-like situations)</th>\n",
       "      <th>Asylum-seekers (pending cases)</th>\n",
       "      <th>Internally displaced persons (IDPs)</th>\n",
       "      <th>Stateless persons</th>\n",
       "    </tr>\n",
       "  </thead>\n",
       "  <tbody>\n",
       "    <tr>\n",
       "      <th>3</th>\n",
       "      <td>1997</td>\n",
       "      <td>Australia</td>\n",
       "      <td>Mexico</td>\n",
       "      <td>2</td>\n",
       "      <td>NaN</td>\n",
       "      <td>NaN</td>\n",
       "      <td>NaN</td>\n",
       "    </tr>\n",
       "    <tr>\n",
       "      <th>9</th>\n",
       "      <td>1997</td>\n",
       "      <td>Canada</td>\n",
       "      <td>Mexico</td>\n",
       "      <td>391</td>\n",
       "      <td>NaN</td>\n",
       "      <td>NaN</td>\n",
       "      <td>NaN</td>\n",
       "    </tr>\n",
       "    <tr>\n",
       "      <th>30</th>\n",
       "      <td>1997</td>\n",
       "      <td>United States of America</td>\n",
       "      <td>Mexico</td>\n",
       "      <td>272</td>\n",
       "      <td>NaN</td>\n",
       "      <td>NaN</td>\n",
       "      <td>NaN</td>\n",
       "    </tr>\n",
       "    <tr>\n",
       "      <th>37</th>\n",
       "      <td>1998</td>\n",
       "      <td>Australia</td>\n",
       "      <td>Mexico</td>\n",
       "      <td>2</td>\n",
       "      <td>NaN</td>\n",
       "      <td>NaN</td>\n",
       "      <td>NaN</td>\n",
       "    </tr>\n",
       "    <tr>\n",
       "      <th>41</th>\n",
       "      <td>1998</td>\n",
       "      <td>Belgium</td>\n",
       "      <td>Mexico</td>\n",
       "      <td>1</td>\n",
       "      <td>NaN</td>\n",
       "      <td>NaN</td>\n",
       "      <td>NaN</td>\n",
       "    </tr>\n",
       "  </tbody>\n",
       "</table>\n",
       "</div>"
      ],
      "text/plain": [
       "    Year Country / territory of asylum/residence  Origin  \\\n",
       "3   1997                               Australia  Mexico   \n",
       "9   1997                                  Canada  Mexico   \n",
       "30  1997                United States of America  Mexico   \n",
       "37  1998                               Australia  Mexico   \n",
       "41  1998                                 Belgium  Mexico   \n",
       "\n",
       "   Refugees (incl. refugee-like situations) Asylum-seekers (pending cases)  \\\n",
       "3                                         2                            NaN   \n",
       "9                                       391                            NaN   \n",
       "30                                      272                            NaN   \n",
       "37                                        2                            NaN   \n",
       "41                                        1                            NaN   \n",
       "\n",
       "    Internally displaced persons (IDPs)  Stateless persons  \n",
       "3                                   NaN                NaN  \n",
       "9                                   NaN                NaN  \n",
       "30                                  NaN                NaN  \n",
       "37                                  NaN                NaN  \n",
       "41                                  NaN                NaN  "
      ]
     },
     "execution_count": 27,
     "metadata": {},
     "output_type": "execute_result"
    }
   ],
   "source": [
    "mexico = data[data['Origin'] == 'Mexico']\n",
    "mexico.head()"
   ]
  },
  {
   "cell_type": "markdown",
   "metadata": {},
   "source": [
    "### Select only the rows where Origin = Thailand:"
   ]
  },
  {
   "cell_type": "code",
   "execution_count": 28,
   "metadata": {
    "collapsed": false
   },
   "outputs": [
    {
     "data": {
      "text/html": [
       "<div>\n",
       "<table border=\"1\" class=\"dataframe\">\n",
       "  <thead>\n",
       "    <tr style=\"text-align: right;\">\n",
       "      <th></th>\n",
       "      <th>Year</th>\n",
       "      <th>Country / territory of asylum/residence</th>\n",
       "      <th>Origin</th>\n",
       "      <th>Refugees (incl. refugee-like situations)</th>\n",
       "      <th>Asylum-seekers (pending cases)</th>\n",
       "      <th>Internally displaced persons (IDPs)</th>\n",
       "      <th>Stateless persons</th>\n",
       "    </tr>\n",
       "  </thead>\n",
       "  <tbody>\n",
       "    <tr>\n",
       "      <th>4</th>\n",
       "      <td>1997</td>\n",
       "      <td>Australia</td>\n",
       "      <td>Thailand</td>\n",
       "      <td>8</td>\n",
       "      <td>NaN</td>\n",
       "      <td>NaN</td>\n",
       "      <td>NaN</td>\n",
       "    </tr>\n",
       "    <tr>\n",
       "      <th>10</th>\n",
       "      <td>1997</td>\n",
       "      <td>Canada</td>\n",
       "      <td>Thailand</td>\n",
       "      <td>208</td>\n",
       "      <td>NaN</td>\n",
       "      <td>NaN</td>\n",
       "      <td>NaN</td>\n",
       "    </tr>\n",
       "    <tr>\n",
       "      <th>20</th>\n",
       "      <td>1997</td>\n",
       "      <td>Netherlands</td>\n",
       "      <td>Thailand</td>\n",
       "      <td>2</td>\n",
       "      <td>NaN</td>\n",
       "      <td>NaN</td>\n",
       "      <td>NaN</td>\n",
       "    </tr>\n",
       "    <tr>\n",
       "      <th>22</th>\n",
       "      <td>1997</td>\n",
       "      <td>Norway</td>\n",
       "      <td>Thailand</td>\n",
       "      <td>5</td>\n",
       "      <td>NaN</td>\n",
       "      <td>NaN</td>\n",
       "      <td>NaN</td>\n",
       "    </tr>\n",
       "    <tr>\n",
       "      <th>26</th>\n",
       "      <td>1997</td>\n",
       "      <td>Sweden</td>\n",
       "      <td>Thailand</td>\n",
       "      <td>47</td>\n",
       "      <td>NaN</td>\n",
       "      <td>NaN</td>\n",
       "      <td>NaN</td>\n",
       "    </tr>\n",
       "  </tbody>\n",
       "</table>\n",
       "</div>"
      ],
      "text/plain": [
       "    Year Country / territory of asylum/residence    Origin  \\\n",
       "4   1997                               Australia  Thailand   \n",
       "10  1997                                  Canada  Thailand   \n",
       "20  1997                             Netherlands  Thailand   \n",
       "22  1997                                  Norway  Thailand   \n",
       "26  1997                                  Sweden  Thailand   \n",
       "\n",
       "   Refugees (incl. refugee-like situations) Asylum-seekers (pending cases)  \\\n",
       "4                                         8                            NaN   \n",
       "10                                      208                            NaN   \n",
       "20                                        2                            NaN   \n",
       "22                                        5                            NaN   \n",
       "26                                       47                            NaN   \n",
       "\n",
       "    Internally displaced persons (IDPs)  Stateless persons  \n",
       "4                                   NaN                NaN  \n",
       "10                                  NaN                NaN  \n",
       "20                                  NaN                NaN  \n",
       "22                                  NaN                NaN  \n",
       "26                                  NaN                NaN  "
      ]
     },
     "execution_count": 28,
     "metadata": {},
     "output_type": "execute_result"
    }
   ],
   "source": [
    "thailand = data[data['Origin'] == 'Thailand']\n",
    "thailand.head()"
   ]
  },
  {
   "cell_type": "markdown",
   "metadata": {},
   "source": [
    "### Save these five tables to separate csv files:"
   ]
  },
  {
   "cell_type": "code",
   "execution_count": 29,
   "metadata": {
    "collapsed": true
   },
   "outputs": [],
   "source": [
    "colombia.to_csv(\"colombia.csv\")\n",
    "germany.to_csv(\"germany.csv\")\n",
    "japan.to_csv(\"japan.csv\")\n",
    "mexico.to_csv(\"mexico.csv\")\n",
    "thailand.to_csv(\"thailand.csv\")"
   ]
  }
 ],
 "metadata": {
  "anaconda-cloud": {},
  "kernelspec": {
   "display_name": "Python [Root]",
   "language": "python",
   "name": "Python [Root]"
  },
  "language_info": {
   "codemirror_mode": {
    "name": "ipython",
    "version": 2
   },
   "file_extension": ".py",
   "mimetype": "text/x-python",
   "name": "python",
   "nbconvert_exporter": "python",
   "pygments_lexer": "ipython2",
   "version": "2.7.12"
  }
 },
 "nbformat": 4,
 "nbformat_minor": 0
}
